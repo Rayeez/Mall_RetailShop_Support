{
 "cells": [
  {
   "cell_type": "code",
   "execution_count": 1,
   "metadata": {},
   "outputs": [],
   "source": [
    "import numpy as np\n",
    "import pandas as pd\n",
    "pd.options.display.float_format = '{:.0f}'.format"
   ]
  },
  {
   "cell_type": "code",
   "execution_count": 2,
   "metadata": {},
   "outputs": [],
   "source": [
    "alls = pd.read_csv('all.csv')\n",
    "store = pd.read_csv('store.csv',encoding='cp1252')\n",
    "cust = pd.read_csv('cust.csv')"
   ]
  },
  {
   "cell_type": "code",
   "execution_count": 3,
   "metadata": {},
   "outputs": [],
   "source": [
    "cust.drop('new_customer_name (populate distinct names from any open dataset)',axis=1 , inplace=True)"
   ]
  },
  {
   "cell_type": "code",
   "execution_count": 29,
   "metadata": {},
   "outputs": [],
   "source": [
    "# allstore = pd.merge(alls, store, on='store_code')\n",
    "\n",
    "# allcust = pd.merge(alls, cust, on='customer_mobile')\n",
    "\n",
    "# allmerge = pd.merge(allcust, store, on='store_code')\n",
    "\n",
    "# merge.to_csv('Mergeall_cust.csv', index=False);"
   ]
  },
  {
   "cell_type": "code",
   "execution_count": 4,
   "metadata": {},
   "outputs": [],
   "source": [
    "# Delete Column\n",
    "# allcust.drop('new_customer_name (populate distinct names from any open dataset)',axis=1 , inplace=True)\n",
    "\n",
    "# Finding rows\n",
    "# alls.loc[alls['store_code'] == 'NaN']\n",
    "\n",
    "# Creating Empty Space\n",
    "# store = store.append({'store_code' : ' '} , ignore_index=True)\n",
    "\n",
    "# Finding Particular row is empty\n",
    "# allstore.store_code.isna().sum()\n",
    "\n",
    "# Finding unique values from two arrays\n",
    "# [i for i in al if i not in st]\n",
    "\n",
    "# Finding unique values from two arrays and storing it into a var\n",
    "# arr = [i for i in st if i not in al]\n",
    "\n",
    "# Same as above but using SET\n",
    "# store_code_avl_in_all_notin_st = set(st) - set(al) #306\n",
    "# store_code_avl_in_st_notin_all = set(al) - set(st) #3\n",
    "\n",
    "# Adding the unique values in dataset\n",
    "# for x in store_code_avl_in_all_notin_st:\n",
    "#     store = store.append({'store_code' : x} , ignore_index=True)   \n",
    "\n",
    "# Merge code\n",
    "# allstore = pd.merge(alls, store, on='store_code')\n"
   ]
  },
  {
   "cell_type": "code",
   "execution_count": null,
   "metadata": {},
   "outputs": [],
   "source": [
    "# Used to Check the shape of DF after drop , how = any -> any represent any one colum is emty drop that row\n",
    "# nostorecat.dropna(how='any').shape \n",
    "\n",
    "# in this how = all represnt in every columns in row need to be empty to drop that row \n",
    "# nostorecat.dropna(how='all')\n",
    "\n",
    "print('StoreCode',alls.dropna(subset=['store_code'],how='all').shape , '==' ,alls.store_code.isna().sum())\n",
    "print('Amount',alls.dropna(subset=['amount'],how='all').shape , '==' ,alls.amount.isna().sum())\n",
    "print('Store + Amount',alls.dropna(subset=['store_code' , 'amount'],how='all').shape)\n",
    "\n",
    "# alls.dropna(how='any').shape\n",
    "\n",
    "print('Store + Amount',alls.dropna(subset=['store_code' , 'amount'],how='all').isna().sum())"
   ]
  },
  {
   "cell_type": "code",
   "execution_count": 24,
   "metadata": {},
   "outputs": [
    {
     "data": {
      "text/plain": [
       "558"
      ]
     },
     "execution_count": 24,
     "metadata": {},
     "output_type": "execute_result"
    }
   ],
   "source": [
    "print('Blue = ',cust.loc[cust['tier'] == 'Blue Member'].shape[0])\n",
    "print('MALE = ',cust.loc[(cust['tier'] == 'Blue Member') & (cust['gender'] == 'Male')].shape[0])\n",
    "print('FEMALE = ',cust.loc[(cust['tier'] == 'Blue Member') & (cust['gender'] == 'Female')].shape[0])\n",
    "print('Other = ',cust.loc[(cust['tier'] == 'Blue Member') & (cust['gender'] == 'Other')].shape[0])\n",
    "print('Null = ', abs(\n",
    "     int(cust.loc[(cust['tier'] == 'Blue Member') & (cust['gender'] == 'Male')].shape[0])  +\n",
    "     int(cust.loc[(cust['tier'] == 'Blue Member') & (cust['gender'] == 'Female')].shape[0])  +\n",
    "     int(cust.loc[(cust['tier'] == 'Blue Member') & (cust['gender'] == 'Other')].shape[0])  -\n",
    "     int(cust.loc[cust['tier'] == 'Blue Member'].shape[0])   )\n",
    "     )\n",
    "print(' ')\n",
    "print('Silver = ',cust.loc[cust['tier'] == 'Silver Member'].shape[0])\n",
    "print('MALE = ',cust.loc[(cust['tier'] == 'Silver Member') & (cust['gender'] == 'Male')].shape[0])\n",
    "print('FEMALE = ', cust.loc[(cust['tier'] == 'Silver Member') & (cust['gender'] == 'Female')].shape[0])\n",
    "print('Other = ', cust.loc[(cust['tier'] == 'Silver Member') & (cust['gender'] == 'Other')].shape[0])\n",
    "print('Null = ', abs(\n",
    "     int(cust.loc[(cust['tier'] == 'Silver Member') & (cust['gender'] == 'Male')].shape[0])  +\n",
    "     int(cust.loc[(cust['tier'] == 'Silver Member') & (cust['gender'] == 'Female')].shape[0])  +\n",
    "     int(cust.loc[(cust['tier'] == 'Silver Member') & (cust['gender'] == 'Other')].shape[0])  -\n",
    "     int(cust.loc[cust['tier'] == 'Silver Member'].shape[0])   )\n",
    "     )\n",
    "print(' ')\n",
    "\n",
    "print('Gold = ',cust.loc[cust['tier'] == 'Gold Member'].shape[0])\n",
    "print('MALE =',cust.loc[(cust['tier'] == 'Gold Member') & (cust['gender'] == 'Male')].shape[0])\n",
    "print('FEMALE =',cust.loc[(cust['tier'] == 'Gold Member') & (cust['gender'] == 'Female')].shape[0])\n",
    "print('Other =',cust.loc[(cust['tier'] == 'Gold Member') & (cust['gender'] == 'Other')].shape[0])\n",
    "print('Null = ', abs(\n",
    "     int(cust.loc[(cust['tier'] == 'Gold Member') & (cust['gender'] == 'Male')].shape[0])  +\n",
    "     int(cust.loc[(cust['tier'] == 'Gold Member') & (cust['gender'] == 'Female')].shape[0])  +\n",
    "     int(cust.loc[(cust['tier'] == 'Gold Member') & (cust['gender'] == 'Other')].shape[0])  -\n",
    "     int(cust.loc[cust['tier'] == 'Gold Member'].shape[0])   )\n",
    "     )\n",
    "print(' ')\n",
    "\n",
    "print('Platinum = ',cust.loc[cust['tier'] == 'Platinum Member'].shape[0])\n",
    "print('MALE =',cust.loc[(cust['tier'] == 'Platinum Member') & (cust['gender'] == 'Male')].shape[0])\n",
    "print('FEMALE =',cust.loc[(cust['tier'] == 'Platinum Member') & (cust['gender'] == 'Female')].shape[0])\n",
    "print('Other =',cust.loc[(cust['tier'] == 'Platinum Member') & (cust['gender'] == 'Other')].shape[0])\n",
    "print('Null = ', abs(\n",
    "     int(cust.loc[(cust['tier'] == 'Platinum Member') & (cust['gender'] == 'Male')].shape[0])  +\n",
    "     int(cust.loc[(cust['tier'] == 'Platinum Member') & (cust['gender'] == 'Female')].shape[0])  +\n",
    "     int(cust.loc[(cust['tier'] == 'Platinum Member') & (cust['gender'] == 'Other')].shape[0])  -\n",
    "     int(cust.loc[cust['tier'] == 'Platinum Member'].shape[0])   )\n",
    "     )\n",
    "print(' ')\n",
    "\n"
   ]
  },
  {
   "cell_type": "code",
   "execution_count": null,
   "metadata": {},
   "outputs": [],
   "source": [
    "pd.DataFrame(store['store_category'].unique())"
   ]
  },
  {
   "cell_type": "code",
   "execution_count": 25,
   "metadata": {},
   "outputs": [
    {
     "data": {
      "text/plain": [
       "559"
      ]
     },
     "execution_count": 25,
     "metadata": {},
     "output_type": "execute_result"
    }
   ],
   "source": [
    "st = store.store_code.unique()\n",
    "st = st.tolist()\n",
    "len(st)"
   ]
  }
 ],
 "metadata": {
  "hide_input": false,
  "kernelspec": {
   "display_name": "Python 3",
   "language": "python",
   "name": "python3"
  },
  "language_info": {
   "codemirror_mode": {
    "name": "ipython",
    "version": 3
   },
   "file_extension": ".py",
   "mimetype": "text/x-python",
   "name": "python",
   "nbconvert_exporter": "python",
   "pygments_lexer": "ipython3",
   "version": "3.7.4"
  }
 },
 "nbformat": 4,
 "nbformat_minor": 1
}
