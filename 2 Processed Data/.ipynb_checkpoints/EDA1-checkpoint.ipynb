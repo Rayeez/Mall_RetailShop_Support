{
 "cells": [
  {
   "cell_type": "code",
   "execution_count": 1,
   "metadata": {},
   "outputs": [],
   "source": [
    "import numpy as np\n",
    "import pandas as pd\n",
    "pd.options.display.float_format = '{:.0f}'.format\n",
    "import warnings\n",
    "warnings.filterwarnings('always')\n",
    "warnings.filterwarnings('ignore')\n",
    "import math\n",
    "import statsmodels.api as sm\n",
    "import seaborn as sns\n",
    "import matplotlib.pyplot as plt"
   ]
  },
  {
   "cell_type": "code",
   "execution_count": 5,
   "metadata": {},
   "outputs": [],
   "source": [
    "# alls = pd.read_csv('all.csv')\n",
    "# store = pd.read_csv('store.csv',encoding='cp1252')\n",
    "# cust = pd.read_csv('cust.csv')\n",
    "# cust.drop('new_customer_name (populate distinct names from any open dataset)',axis=1 , inplace=True)\n",
    "\n",
    "# al = alls.store_code.unique()\n",
    "# st = store.store_code.unique()\n",
    "# store_code_avl_in_st_notin_all = set(st) - set(al) #4\n",
    "# store_code_avl_in_all_notin_st = set(al) - set(st) #3\n",
    "\n",
    "# for x in store_code_avl_in_st_notin_all:\n",
    "#     alls = alls.append({'store_code' : x} , ignore_index=True)\n",
    "# for x in store_code_avl_in_all_notin_st:\n",
    "#     store = store.append({'store_code' : x} , ignore_index=True)\n",
    "# allcust = pd.merge(alls, cust, on='customer_mobile')\n",
    "# allmerge = pd.merge(allcust, store, on='store_code')\n",
    "\n",
    "# allmerge = allmerge.dropna(subset=['store_code','gender','state','amount','state','store_name','store_category'],how='all')\n",
    "\n",
    "\n",
    "# gend = allmerge[allmerge['gender'].isna()]\n",
    "\n",
    "# allmerge = allmerge.dropna(subset=['gender'],how='all')\n",
    "\n",
    "# women = [\"Accessories\",\"Accessories,Gifts & Toys\",\"Accessories,Jewellery\",\"Accessories,Jewellery,Women's Fashion\",\"Accessories,Men's Fashion\",\"Accessories,Sports & Fitness,Women's Fashion,Men's Fashion\",\"Accessories,Women's Fashion\",\"Accessories,Women's Fashion,Men's Fashion\",\"Beauty & Grooming\",\"Electronics,Kids Fashion,Accessories,Grocery & Household,Home & Lifestyle,Women's Fashion,Men's Fashion,Books and Stationery,Gifts & Toys\",\"Entertainment & Leisure\",\"Food & Beverage\",\"Food & Beverage,Grocery & Household\",\"Gifts & Toys\",\"Grocery & Household\",\"Health & Wellness\",\"Home & Lifestyle\",\"Jewellery\",\"Kids Fashion\",\"Kids Fashion,Accessories\",\"Kids Fashion,Accessories,Women's Fashion,Men's Fashion\",\"Kids Fashion,Women's Fashion,Men's Fashion\",\"Travel\",\"Women's Fashion\",\"Women's Fashion,Men's Fashion\"]\n",
    "\n",
    "# men = [\"Books and Stationery,Gifts & Toys\",\"Electronics\",\"Electronics,Entertainment & Leisure\",\"Jewellery,Gifts & Toys\",\"Men's Fashion\",\"Sports & Fitness\",\"Sports & Fitness,Women's\",\"Fashion,Men's Fashion\",\"Travel,Accessories,Sports & Fitness\"]\n",
    "\n",
    "# for x in men:\n",
    "#     gend.loc[gend['store_category'] == x, ['gender']] = 'Male'\n",
    "\n",
    "# for x in women:\n",
    "#     gend.loc[gend['store_category'] == x, ['gender']] = 'Female'\n",
    "\n",
    "# df = pd.concat([allmerge,gend], axis=0)\n",
    "# df.to_csv('Semi.csv' , )"
   ]
  },
  {
   "cell_type": "code",
   "execution_count": 7,
   "metadata": {},
   "outputs": [],
   "source": [
    "df = pd.read_csv('semids.csv')"
   ]
  },
  {
   "cell_type": "code",
   "execution_count": 8,
   "metadata": {},
   "outputs": [
    {
     "data": {
      "text/html": [
       "<div>\n",
       "<style scoped>\n",
       "    .dataframe tbody tr th:only-of-type {\n",
       "        vertical-align: middle;\n",
       "    }\n",
       "\n",
       "    .dataframe tbody tr th {\n",
       "        vertical-align: top;\n",
       "    }\n",
       "\n",
       "    .dataframe thead th {\n",
       "        text-align: right;\n",
       "    }\n",
       "</style>\n",
       "<table border=\"1\" class=\"dataframe\">\n",
       "  <thead>\n",
       "    <tr style=\"text-align: right;\">\n",
       "      <th></th>\n",
       "      <th>billing_timestamp</th>\n",
       "      <th>transaction_type</th>\n",
       "      <th>amount</th>\n",
       "      <th>points</th>\n",
       "      <th>store_code</th>\n",
       "      <th>customer_mobile</th>\n",
       "      <th>created_at</th>\n",
       "      <th>gender</th>\n",
       "      <th>state</th>\n",
       "      <th>tier</th>\n",
       "      <th>store_name</th>\n",
       "      <th>store_location</th>\n",
       "      <th>store_category</th>\n",
       "      <th>store_PriceCategory</th>\n",
       "    </tr>\n",
       "  </thead>\n",
       "  <tbody>\n",
       "    <tr>\n",
       "      <td>0</td>\n",
       "      <td>2019-03-19 16:18:00 +0530</td>\n",
       "      <td>adjustment</td>\n",
       "      <td>nan</td>\n",
       "      <td>100</td>\n",
       "      <td>NaN</td>\n",
       "      <td>257834840425</td>\n",
       "      <td>2019-03-19 15:42:48 +0530</td>\n",
       "      <td>Female</td>\n",
       "      <td>Maharashtra</td>\n",
       "      <td>Blue Member</td>\n",
       "      <td>NaN</td>\n",
       "      <td>NaN</td>\n",
       "      <td>NaN</td>\n",
       "      <td>NaN</td>\n",
       "    </tr>\n",
       "    <tr>\n",
       "      <td>1</td>\n",
       "      <td>2019-03-19 16:18:00 +0530</td>\n",
       "      <td>adjustment</td>\n",
       "      <td>nan</td>\n",
       "      <td>100</td>\n",
       "      <td>NaN</td>\n",
       "      <td>256578746946</td>\n",
       "      <td>2019-03-19 15:42:52 +0530</td>\n",
       "      <td>Female</td>\n",
       "      <td>Maharashtra</td>\n",
       "      <td>Blue Member</td>\n",
       "      <td>NaN</td>\n",
       "      <td>NaN</td>\n",
       "      <td>NaN</td>\n",
       "      <td>NaN</td>\n",
       "    </tr>\n",
       "    <tr>\n",
       "      <td>2</td>\n",
       "      <td>2019-03-19 16:18:00 +0530</td>\n",
       "      <td>adjustment</td>\n",
       "      <td>nan</td>\n",
       "      <td>100</td>\n",
       "      <td>NaN</td>\n",
       "      <td>243600755221</td>\n",
       "      <td>2019-03-19 15:38:05 +0530</td>\n",
       "      <td>Female</td>\n",
       "      <td>Maharashtra</td>\n",
       "      <td>Silver Member</td>\n",
       "      <td>NaN</td>\n",
       "      <td>NaN</td>\n",
       "      <td>NaN</td>\n",
       "      <td>NaN</td>\n",
       "    </tr>\n",
       "    <tr>\n",
       "      <td>3</td>\n",
       "      <td>2019-03-19 16:18:12 +0530</td>\n",
       "      <td>adjustment</td>\n",
       "      <td>nan</td>\n",
       "      <td>50</td>\n",
       "      <td>NaN</td>\n",
       "      <td>243600755221</td>\n",
       "      <td>2019-03-19 15:38:05 +0530</td>\n",
       "      <td>Female</td>\n",
       "      <td>Maharashtra</td>\n",
       "      <td>Silver Member</td>\n",
       "      <td>NaN</td>\n",
       "      <td>NaN</td>\n",
       "      <td>NaN</td>\n",
       "      <td>NaN</td>\n",
       "    </tr>\n",
       "    <tr>\n",
       "      <td>4</td>\n",
       "      <td>2019-03-19 16:18:00 +0530</td>\n",
       "      <td>adjustment</td>\n",
       "      <td>nan</td>\n",
       "      <td>100</td>\n",
       "      <td>NaN</td>\n",
       "      <td>256618998303</td>\n",
       "      <td>2019-03-19 15:38:09 +0530</td>\n",
       "      <td>Female</td>\n",
       "      <td>Maharashtra</td>\n",
       "      <td>Blue Member</td>\n",
       "      <td>NaN</td>\n",
       "      <td>NaN</td>\n",
       "      <td>NaN</td>\n",
       "      <td>NaN</td>\n",
       "    </tr>\n",
       "    <tr>\n",
       "      <td>...</td>\n",
       "      <td>...</td>\n",
       "      <td>...</td>\n",
       "      <td>...</td>\n",
       "      <td>...</td>\n",
       "      <td>...</td>\n",
       "      <td>...</td>\n",
       "      <td>...</td>\n",
       "      <td>...</td>\n",
       "      <td>...</td>\n",
       "      <td>...</td>\n",
       "      <td>...</td>\n",
       "      <td>...</td>\n",
       "      <td>...</td>\n",
       "      <td>...</td>\n",
       "    </tr>\n",
       "    <tr>\n",
       "      <td>358068</td>\n",
       "      <td>2019-08-06 00:00:00 +0530</td>\n",
       "      <td>purchase</td>\n",
       "      <td>2184</td>\n",
       "      <td>44</td>\n",
       "      <td>IMM00233</td>\n",
       "      <td>243587781545</td>\n",
       "      <td>2019-08-06 22:14:25 +0530</td>\n",
       "      <td>Female</td>\n",
       "      <td>NaN</td>\n",
       "      <td>Blue Member</td>\n",
       "      <td>Specstore</td>\n",
       "      <td>Emerald Mall</td>\n",
       "      <td>Accessories</td>\n",
       "      <td>Premium</td>\n",
       "    </tr>\n",
       "    <tr>\n",
       "      <td>358069</td>\n",
       "      <td>2019-08-24 00:00:00 +0530</td>\n",
       "      <td>purchase</td>\n",
       "      <td>4816</td>\n",
       "      <td>96</td>\n",
       "      <td>IMM00233</td>\n",
       "      <td>234034734104</td>\n",
       "      <td>2019-08-24 16:29:03 +0530</td>\n",
       "      <td>Female</td>\n",
       "      <td>NaN</td>\n",
       "      <td>Blue Member</td>\n",
       "      <td>Specstore</td>\n",
       "      <td>Emerald Mall</td>\n",
       "      <td>Accessories</td>\n",
       "      <td>Premium</td>\n",
       "    </tr>\n",
       "    <tr>\n",
       "      <td>358070</td>\n",
       "      <td>2019-08-27 18:39:44 +0530</td>\n",
       "      <td>purchase</td>\n",
       "      <td>7990</td>\n",
       "      <td>160</td>\n",
       "      <td>IMM00021</td>\n",
       "      <td>259225635282</td>\n",
       "      <td>2019-08-29 10:33:03 +0530</td>\n",
       "      <td>Female</td>\n",
       "      <td>NaN</td>\n",
       "      <td>Blue Member</td>\n",
       "      <td>Adam Luggage</td>\n",
       "      <td>Emerald Mall</td>\n",
       "      <td>Travel</td>\n",
       "      <td>Premium</td>\n",
       "    </tr>\n",
       "    <tr>\n",
       "      <td>358071</td>\n",
       "      <td>2019-08-03 00:00:00 +0530</td>\n",
       "      <td>purchase</td>\n",
       "      <td>150</td>\n",
       "      <td>3</td>\n",
       "      <td>IMA00075</td>\n",
       "      <td>200323966990</td>\n",
       "      <td>2019-08-04 00:11:32 +0530</td>\n",
       "      <td>Male</td>\n",
       "      <td>NaN</td>\n",
       "      <td>Blue Member</td>\n",
       "      <td>Handcrafted</td>\n",
       "      <td>Diamond Mall</td>\n",
       "      <td>Electronics</td>\n",
       "      <td>Premium</td>\n",
       "    </tr>\n",
       "    <tr>\n",
       "      <td>358072</td>\n",
       "      <td>2019-04-30 13:36:59 +0530</td>\n",
       "      <td>purchase</td>\n",
       "      <td>180</td>\n",
       "      <td>2</td>\n",
       "      <td>TEST0001</td>\n",
       "      <td>218370580286</td>\n",
       "      <td>2019-05-18 11:49:32 +0530</td>\n",
       "      <td>NaN</td>\n",
       "      <td>NaN</td>\n",
       "      <td>Blue Member</td>\n",
       "      <td>Triage Sportswear</td>\n",
       "      <td>Emerald Mall</td>\n",
       "      <td>NaN</td>\n",
       "      <td>Premium</td>\n",
       "    </tr>\n",
       "  </tbody>\n",
       "</table>\n",
       "<p>358073 rows × 14 columns</p>\n",
       "</div>"
      ],
      "text/plain": [
       "                billing_timestamp transaction_type  amount  points store_code  \\\n",
       "0       2019-03-19 16:18:00 +0530       adjustment     nan     100        NaN   \n",
       "1       2019-03-19 16:18:00 +0530       adjustment     nan     100        NaN   \n",
       "2       2019-03-19 16:18:00 +0530       adjustment     nan     100        NaN   \n",
       "3       2019-03-19 16:18:12 +0530       adjustment     nan      50        NaN   \n",
       "4       2019-03-19 16:18:00 +0530       adjustment     nan     100        NaN   \n",
       "...                           ...              ...     ...     ...        ...   \n",
       "358068  2019-08-06 00:00:00 +0530         purchase    2184      44   IMM00233   \n",
       "358069  2019-08-24 00:00:00 +0530         purchase    4816      96   IMM00233   \n",
       "358070  2019-08-27 18:39:44 +0530         purchase    7990     160   IMM00021   \n",
       "358071  2019-08-03 00:00:00 +0530         purchase     150       3   IMA00075   \n",
       "358072  2019-04-30 13:36:59 +0530         purchase     180       2   TEST0001   \n",
       "\n",
       "        customer_mobile                 created_at  gender        state  \\\n",
       "0          257834840425  2019-03-19 15:42:48 +0530  Female  Maharashtra   \n",
       "1          256578746946  2019-03-19 15:42:52 +0530  Female  Maharashtra   \n",
       "2          243600755221  2019-03-19 15:38:05 +0530  Female  Maharashtra   \n",
       "3          243600755221  2019-03-19 15:38:05 +0530  Female  Maharashtra   \n",
       "4          256618998303  2019-03-19 15:38:09 +0530  Female  Maharashtra   \n",
       "...                 ...                        ...     ...          ...   \n",
       "358068     243587781545  2019-08-06 22:14:25 +0530  Female          NaN   \n",
       "358069     234034734104  2019-08-24 16:29:03 +0530  Female          NaN   \n",
       "358070     259225635282  2019-08-29 10:33:03 +0530  Female          NaN   \n",
       "358071     200323966990  2019-08-04 00:11:32 +0530    Male          NaN   \n",
       "358072     218370580286  2019-05-18 11:49:32 +0530     NaN          NaN   \n",
       "\n",
       "                 tier         store_name store_location store_category  \\\n",
       "0         Blue Member                NaN            NaN            NaN   \n",
       "1         Blue Member                NaN            NaN            NaN   \n",
       "2       Silver Member                NaN            NaN            NaN   \n",
       "3       Silver Member                NaN            NaN            NaN   \n",
       "4         Blue Member                NaN            NaN            NaN   \n",
       "...               ...                ...            ...            ...   \n",
       "358068    Blue Member          Specstore   Emerald Mall    Accessories   \n",
       "358069    Blue Member          Specstore   Emerald Mall    Accessories   \n",
       "358070    Blue Member       Adam Luggage   Emerald Mall         Travel   \n",
       "358071    Blue Member        Handcrafted   Diamond Mall    Electronics   \n",
       "358072    Blue Member  Triage Sportswear   Emerald Mall            NaN   \n",
       "\n",
       "       store_PriceCategory  \n",
       "0                      NaN  \n",
       "1                      NaN  \n",
       "2                      NaN  \n",
       "3                      NaN  \n",
       "4                      NaN  \n",
       "...                    ...  \n",
       "358068             Premium  \n",
       "358069             Premium  \n",
       "358070             Premium  \n",
       "358071             Premium  \n",
       "358072             Premium  \n",
       "\n",
       "[358073 rows x 14 columns]"
      ]
     },
     "execution_count": 8,
     "metadata": {},
     "output_type": "execute_result"
    }
   ],
   "source": [
    "df"
   ]
  },
  {
   "cell_type": "code",
   "execution_count": 0,
   "metadata": {},
   "outputs": [],
   "source": []
  },
  {
   "cell_type": "code",
   "execution_count": 0,
   "metadata": {},
   "outputs": [],
   "source": []
  },
  {
   "cell_type": "code",
   "execution_count": 0,
   "metadata": {},
   "outputs": [],
   "source": []
  },
  {
   "cell_type": "code",
   "execution_count": 0,
   "metadata": {},
   "outputs": [],
   "source": []
  },
  {
   "cell_type": "code",
   "execution_count": 0,
   "metadata": {},
   "outputs": [],
   "source": []
  },
  {
   "cell_type": "code",
   "execution_count": 0,
   "metadata": {},
   "outputs": [],
   "source": []
  },
  {
   "cell_type": "code",
   "execution_count": 0,
   "metadata": {},
   "outputs": [],
   "source": []
  },
  {
   "cell_type": "code",
   "execution_count": 0,
   "metadata": {},
   "outputs": [],
   "source": []
  },
  {
   "cell_type": "code",
   "execution_count": 0,
   "metadata": {},
   "outputs": [],
   "source": []
  },
  {
   "cell_type": "code",
   "execution_count": 0,
   "metadata": {},
   "outputs": [],
   "source": []
  },
  {
   "cell_type": "code",
   "execution_count": 0,
   "metadata": {},
   "outputs": [],
   "source": []
  },
  {
   "cell_type": "code",
   "execution_count": 0,
   "metadata": {},
   "outputs": [],
   "source": []
  },
  {
   "cell_type": "code",
   "execution_count": 0,
   "metadata": {},
   "outputs": [],
   "source": []
  },
  {
   "cell_type": "code",
   "execution_count": 0,
   "metadata": {},
   "outputs": [],
   "source": []
  },
  {
   "cell_type": "code",
   "execution_count": 0,
   "metadata": {},
   "outputs": [],
   "source": []
  },
  {
   "cell_type": "code",
   "execution_count": 0,
   "metadata": {},
   "outputs": [],
   "source": []
  },
  {
   "cell_type": "code",
   "execution_count": 0,
   "metadata": {},
   "outputs": [],
   "source": []
  },
  {
   "cell_type": "code",
   "execution_count": 0,
   "metadata": {},
   "outputs": [],
   "source": []
  },
  {
   "cell_type": "code",
   "execution_count": 0,
   "metadata": {},
   "outputs": [],
   "source": []
  },
  {
   "cell_type": "code",
   "execution_count": 0,
   "metadata": {},
   "outputs": [],
   "source": []
  },
  {
   "cell_type": "code",
   "execution_count": 0,
   "metadata": {},
   "outputs": [],
   "source": []
  },
  {
   "cell_type": "code",
   "execution_count": 0,
   "metadata": {},
   "outputs": [],
   "source": []
  },
  {
   "cell_type": "code",
   "execution_count": 0,
   "metadata": {},
   "outputs": [],
   "source": []
  },
  {
   "cell_type": "code",
   "execution_count": 0,
   "metadata": {},
   "outputs": [],
   "source": []
  },
  {
   "cell_type": "code",
   "execution_count": 0,
   "metadata": {},
   "outputs": [],
   "source": []
  },
  {
   "cell_type": "code",
   "execution_count": 31,
   "metadata": {},
   "outputs": [],
   "source": [
    "# cd = pd.crosstab(columns=[allmerge.gender],index=[allmerge.store_category],margins=True,normalize='index')\n",
    "# sns.heatmap(pd.crosstab(allmerge.store_category, allmerge.gender),cmap=\"YlGnBu\", annot=True, cbar=False)"
   ]
  },
  {
   "cell_type": "code",
   "execution_count": 0,
   "metadata": {},
   "outputs": [],
   "source": []
  },
  {
   "cell_type": "code",
   "execution_count": 0,
   "metadata": {},
   "outputs": [],
   "source": [
    "['amount','store_code','gender','state','store_name','store_location','store_category','store_PriceCategory']"
   ]
  },
  {
   "cell_type": "code",
   "execution_count": 40,
   "metadata": {},
   "outputs": [
    {
     "data": {
      "text/plain": [
       "16"
      ]
     },
     "execution_count": 40,
     "metadata": {},
     "output_type": "execute_result"
    }
   ],
   "source": [
    "df[(df['store_location'].isnull()&df['store_name'].isnull()&df['gender'].isnull()&df['state'].isnull())].customer_mobile.nunique()"
   ]
  },
  {
   "cell_type": "code",
   "execution_count": 1,
   "metadata": {},
   "outputs": [],
   "source": [
    "# df[(df['store_location'].isnull()&df['store_name'].isnull()&df['gender'].isnull()&df['state'].isnull())]"
   ]
  },
  {
   "cell_type": "code",
   "execution_count": 0,
   "metadata": {},
   "outputs": [],
   "source": []
  },
  {
   "cell_type": "code",
   "execution_count": 0,
   "metadata": {},
   "outputs": [],
   "source": []
  },
  {
   "cell_type": "code",
   "execution_count": 0,
   "metadata": {},
   "outputs": [],
   "source": []
  },
  {
   "cell_type": "code",
   "execution_count": 0,
   "metadata": {},
   "outputs": [],
   "source": []
  },
  {
   "cell_type": "code",
   "execution_count": 0,
   "metadata": {},
   "outputs": [],
   "source": []
  },
  {
   "cell_type": "code",
   "execution_count": 0,
   "metadata": {},
   "outputs": [],
   "source": []
  },
  {
   "cell_type": "code",
   "execution_count": 0,
   "metadata": {},
   "outputs": [],
   "source": []
  },
  {
   "cell_type": "code",
   "execution_count": 0,
   "metadata": {},
   "outputs": [],
   "source": []
  },
  {
   "cell_type": "code",
   "execution_count": 0,
   "metadata": {},
   "outputs": [],
   "source": []
  },
  {
   "cell_type": "code",
   "execution_count": 0,
   "metadata": {},
   "outputs": [],
   "source": []
  },
  {
   "cell_type": "code",
   "execution_count": 0,
   "metadata": {},
   "outputs": [],
   "source": []
  },
  {
   "cell_type": "code",
   "execution_count": 0,
   "metadata": {},
   "outputs": [],
   "source": []
  },
  {
   "cell_type": "code",
   "execution_count": 0,
   "metadata": {},
   "outputs": [],
   "source": []
  },
  {
   "cell_type": "code",
   "execution_count": 0,
   "metadata": {},
   "outputs": [],
   "source": []
  },
  {
   "cell_type": "code",
   "execution_count": 0,
   "metadata": {},
   "outputs": [],
   "source": []
  },
  {
   "cell_type": "code",
   "execution_count": 0,
   "metadata": {},
   "outputs": [],
   "source": []
  },
  {
   "cell_type": "code",
   "execution_count": 0,
   "metadata": {},
   "outputs": [],
   "source": []
  },
  {
   "cell_type": "code",
   "execution_count": 0,
   "metadata": {},
   "outputs": [],
   "source": []
  },
  {
   "cell_type": "code",
   "execution_count": 0,
   "metadata": {},
   "outputs": [],
   "source": []
  },
  {
   "cell_type": "code",
   "execution_count": 0,
   "metadata": {},
   "outputs": [],
   "source": []
  },
  {
   "cell_type": "code",
   "execution_count": 0,
   "metadata": {},
   "outputs": [],
   "source": []
  },
  {
   "cell_type": "code",
   "execution_count": 0,
   "metadata": {},
   "outputs": [],
   "source": []
  },
  {
   "cell_type": "code",
   "execution_count": 0,
   "metadata": {},
   "outputs": [],
   "source": []
  },
  {
   "cell_type": "code",
   "execution_count": 0,
   "metadata": {},
   "outputs": [],
   "source": []
  },
  {
   "cell_type": "code",
   "execution_count": 0,
   "metadata": {},
   "outputs": [],
   "source": []
  },
  {
   "cell_type": "code",
   "execution_count": 0,
   "metadata": {},
   "outputs": [],
   "source": []
  },
  {
   "cell_type": "code",
   "execution_count": 0,
   "metadata": {},
   "outputs": [],
   "source": []
  },
  {
   "cell_type": "code",
   "execution_count": 0,
   "metadata": {},
   "outputs": [],
   "source": []
  },
  {
   "cell_type": "code",
   "execution_count": 0,
   "metadata": {},
   "outputs": [],
   "source": []
  },
  {
   "cell_type": "code",
   "execution_count": 0,
   "metadata": {},
   "outputs": [],
   "source": []
  },
  {
   "cell_type": "code",
   "execution_count": 0,
   "metadata": {},
   "outputs": [],
   "source": []
  },
  {
   "cell_type": "code",
   "execution_count": 0,
   "metadata": {},
   "outputs": [],
   "source": []
  },
  {
   "cell_type": "code",
   "execution_count": 0,
   "metadata": {},
   "outputs": [],
   "source": []
  }
 ],
 "metadata": {
  "hide_input": false,
  "kernelspec": {
   "display_name": "Python 3",
   "language": "python",
   "name": "python3"
  },
  "language_info": {
   "codemirror_mode": {
    "name": "ipython",
    "version": 3
   },
   "file_extension": ".py",
   "mimetype": "text/x-python",
   "name": "python",
   "nbconvert_exporter": "python",
   "pygments_lexer": "ipython3",
   "version": "3.7.4"
  }
 },
 "nbformat": 4,
 "nbformat_minor": 1
}
