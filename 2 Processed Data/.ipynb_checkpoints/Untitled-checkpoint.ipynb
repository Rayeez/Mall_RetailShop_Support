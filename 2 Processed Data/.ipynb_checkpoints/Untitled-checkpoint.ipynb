{
 "cells": [
  {
   "cell_type": "code",
   "execution_count": 3,
   "metadata": {
    "hide_input": true
   },
   "outputs": [],
   "source": [
    "# Ignore  the warnings\n",
    "import warnings\n",
    "warnings.filterwarnings('always')\n",
    "warnings.filterwarnings('ignore')\n",
    "\n",
    "import statsmodels.api as sm\n",
    "import seaborn as sns\n",
    "import matplotlib.pyplot as plt\n",
    "import pandas as pd\n",
    "import numpy as np\n",
    "from sklearn.cluster import KMeans\n",
    "from sklearn.model_selection import train_test_split\n",
    "\n",
    "from sklearn.linear_model import LogisticRegression\n",
    "from sklearn.linear_model import LinearRegression\n",
    "\n",
    "from sklearn import preprocessing\n",
    "mi = preprocessing.MinMaxScaler()\n",
    "pd.options.display.max_columns = None"
   ]
  },
  {
   "cell_type": "code",
   "execution_count": 20,
   "metadata": {
    "hide_input": false
   },
   "outputs": [],
   "source": [
    "ds1 = pd.read_csv('all_credit_ledger.csv',encoding='cp1252')\n",
    "ds2 = pd.read_csv('customer-tier.csv',encoding='cp1252')\n",
    "ds3 = pd.read_csv('Store.csv', encoding='cp1252')"
   ]
  },
  {
   "cell_type": "code",
   "execution_count": 21,
   "metadata": {
    "hide_input": false
   },
   "outputs": [],
   "source": [
    "# All Columns"
   ]
  },
  {
   "cell_type": "code",
   "execution_count": 22,
   "metadata": {
    "cell_style": "split"
   },
   "outputs": [
    {
     "data": {
      "text/plain": [
       "Index(['billing_timestamp', 'transaction_type', 'amount', 'points',\n",
       "       'store_code', 'customer_mobile'],\n",
       "      dtype='object')"
      ]
     },
     "execution_count": 22,
     "metadata": {},
     "output_type": "execute_result"
    }
   ],
   "source": [
    "ds1.columns"
   ]
  },
  {
   "cell_type": "code",
   "execution_count": 23,
   "metadata": {
    "cell_style": "split"
   },
   "outputs": [
    {
     "data": {
      "text/plain": [
       "Index(['billing_timestamp', 'transaction_type', 'amount', 'points',\n",
       "       'store_code', 'customer_mobile'],\n",
       "      dtype='object')"
      ]
     },
     "execution_count": 23,
     "metadata": {},
     "output_type": "execute_result"
    }
   ],
   "source": [
    "ds2.columns"
   ]
  },
  {
   "cell_type": "code",
   "execution_count": 24,
   "metadata": {},
   "outputs": [
    {
     "data": {
      "text/plain": [
       "Index(['store_name', 'store_code', 'store_location', 'store_category',\n",
       "       'store_PriceCategory'],\n",
       "      dtype='object')"
      ]
     },
     "execution_count": 24,
     "metadata": {},
     "output_type": "execute_result"
    }
   ],
   "source": [
    "ds3.columns"
   ]
  },
  {
   "cell_type": "code",
   "execution_count": 11,
   "metadata": {},
   "outputs": [
    {
     "data": {
      "text/html": [
       "<div>\n",
       "<style scoped>\n",
       "    .dataframe tbody tr th:only-of-type {\n",
       "        vertical-align: middle;\n",
       "    }\n",
       "\n",
       "    .dataframe tbody tr th {\n",
       "        vertical-align: top;\n",
       "    }\n",
       "\n",
       "    .dataframe thead th {\n",
       "        text-align: right;\n",
       "    }\n",
       "</style>\n",
       "<table border=\"1\" class=\"dataframe\">\n",
       "  <thead>\n",
       "    <tr style=\"text-align: right;\">\n",
       "      <th></th>\n",
       "      <th>store_name</th>\n",
       "      <th>store_code</th>\n",
       "      <th>store_location</th>\n",
       "      <th>store_category</th>\n",
       "      <th>store_PriceCategory</th>\n",
       "    </tr>\n",
       "  </thead>\n",
       "  <tbody>\n",
       "    <tr>\n",
       "      <td>0</td>\n",
       "      <td>Kansas Denims</td>\n",
       "      <td>IMM00033</td>\n",
       "      <td>Emerald Mall</td>\n",
       "      <td>Women's Fashion,Men's Fashion</td>\n",
       "      <td>Premium</td>\n",
       "    </tr>\n",
       "    <tr>\n",
       "      <td>1</td>\n",
       "      <td>Homosapiens</td>\n",
       "      <td>IMM00020</td>\n",
       "      <td>Emerald Mall</td>\n",
       "      <td>Women's Fashion,Men's Fashion</td>\n",
       "      <td>Premium</td>\n",
       "    </tr>\n",
       "    <tr>\n",
       "      <td>2</td>\n",
       "      <td>Rocket Swims</td>\n",
       "      <td>IMM00153</td>\n",
       "      <td>Emerald Mall</td>\n",
       "      <td>Sports &amp; Fitness,Women's Fashion,Men's Fashion</td>\n",
       "      <td>Premium</td>\n",
       "    </tr>\n",
       "    <tr>\n",
       "      <td>3</td>\n",
       "      <td>Spade &amp;  Yard</td>\n",
       "      <td>IMM00027</td>\n",
       "      <td>Emerald Mall</td>\n",
       "      <td>Gifts &amp; Toys</td>\n",
       "      <td>Value</td>\n",
       "    </tr>\n",
       "    <tr>\n",
       "      <td>4</td>\n",
       "      <td>Pondicherry</td>\n",
       "      <td>IMM00008</td>\n",
       "      <td>Emerald Mall</td>\n",
       "      <td>Accessories,Women's Fashion</td>\n",
       "      <td>Premium</td>\n",
       "    </tr>\n",
       "    <tr>\n",
       "      <td>...</td>\n",
       "      <td>...</td>\n",
       "      <td>...</td>\n",
       "      <td>...</td>\n",
       "      <td>...</td>\n",
       "      <td>...</td>\n",
       "    </tr>\n",
       "    <tr>\n",
       "      <td>554</td>\n",
       "      <td>Red Stripes</td>\n",
       "      <td>IMA00055</td>\n",
       "      <td>Diamond Mall</td>\n",
       "      <td>Food &amp; Beverage</td>\n",
       "      <td>Value</td>\n",
       "    </tr>\n",
       "    <tr>\n",
       "      <td>555</td>\n",
       "      <td>Red Stripes</td>\n",
       "      <td>IMM00202</td>\n",
       "      <td>Emerald Mall</td>\n",
       "      <td>Food &amp; Beverage</td>\n",
       "      <td>Value</td>\n",
       "    </tr>\n",
       "    <tr>\n",
       "      <td>556</td>\n",
       "      <td>Plantorganics</td>\n",
       "      <td>NA-IMA0117</td>\n",
       "      <td>Diamond Mall</td>\n",
       "      <td>Beauty &amp; Grooming</td>\n",
       "      <td>Premium</td>\n",
       "    </tr>\n",
       "    <tr>\n",
       "      <td>557</td>\n",
       "      <td>Tnt Gold</td>\n",
       "      <td>NA-IMA0100</td>\n",
       "      <td>Diamond Mall</td>\n",
       "      <td>Entertainment &amp; Leisure</td>\n",
       "      <td>Premium</td>\n",
       "    </tr>\n",
       "    <tr>\n",
       "      <td>558</td>\n",
       "      <td>Handcrafted</td>\n",
       "      <td>NA-IMM0113</td>\n",
       "      <td>Emerald Mall</td>\n",
       "      <td>Electronics</td>\n",
       "      <td>Premium</td>\n",
       "    </tr>\n",
       "  </tbody>\n",
       "</table>\n",
       "<p>559 rows × 5 columns</p>\n",
       "</div>"
      ],
      "text/plain": [
       "        store_name  store_code store_location  \\\n",
       "0    Kansas Denims    IMM00033   Emerald Mall   \n",
       "1      Homosapiens    IMM00020   Emerald Mall   \n",
       "2     Rocket Swims    IMM00153   Emerald Mall   \n",
       "3    Spade &  Yard    IMM00027   Emerald Mall   \n",
       "4      Pondicherry    IMM00008   Emerald Mall   \n",
       "..             ...         ...            ...   \n",
       "554    Red Stripes    IMA00055   Diamond Mall   \n",
       "555    Red Stripes    IMM00202   Emerald Mall   \n",
       "556  Plantorganics  NA-IMA0117   Diamond Mall   \n",
       "557       Tnt Gold  NA-IMA0100   Diamond Mall   \n",
       "558    Handcrafted  NA-IMM0113   Emerald Mall   \n",
       "\n",
       "                                     store_category store_PriceCategory  \n",
       "0                     Women's Fashion,Men's Fashion             Premium  \n",
       "1                     Women's Fashion,Men's Fashion             Premium  \n",
       "2    Sports & Fitness,Women's Fashion,Men's Fashion             Premium  \n",
       "3                                      Gifts & Toys               Value  \n",
       "4                       Accessories,Women's Fashion             Premium  \n",
       "..                                              ...                 ...  \n",
       "554                                 Food & Beverage               Value  \n",
       "555                                 Food & Beverage               Value  \n",
       "556                               Beauty & Grooming             Premium  \n",
       "557                         Entertainment & Leisure             Premium  \n",
       "558                                     Electronics             Premium  \n",
       "\n",
       "[559 rows x 5 columns]"
      ]
     },
     "execution_count": 11,
     "metadata": {},
     "output_type": "execute_result"
    }
   ],
   "source": [
    "ds1"
   ]
  },
  {
   "cell_type": "code",
   "execution_count": 12,
   "metadata": {},
   "outputs": [
    {
     "data": {
      "text/html": [
       "<div>\n",
       "<style scoped>\n",
       "    .dataframe tbody tr th:only-of-type {\n",
       "        vertical-align: middle;\n",
       "    }\n",
       "\n",
       "    .dataframe tbody tr th {\n",
       "        vertical-align: top;\n",
       "    }\n",
       "\n",
       "    .dataframe thead th {\n",
       "        text-align: right;\n",
       "    }\n",
       "</style>\n",
       "<table border=\"1\" class=\"dataframe\">\n",
       "  <thead>\n",
       "    <tr style=\"text-align: right;\">\n",
       "      <th></th>\n",
       "      <th>store_name</th>\n",
       "      <th>store_code</th>\n",
       "      <th>store_location</th>\n",
       "      <th>store_category</th>\n",
       "      <th>store_PriceCategory</th>\n",
       "    </tr>\n",
       "  </thead>\n",
       "  <tbody>\n",
       "    <tr>\n",
       "      <td>0</td>\n",
       "      <td>Kansas Denims</td>\n",
       "      <td>IMM00033</td>\n",
       "      <td>Emerald Mall</td>\n",
       "      <td>Women's Fashion,Men's Fashion</td>\n",
       "      <td>Premium</td>\n",
       "    </tr>\n",
       "    <tr>\n",
       "      <td>1</td>\n",
       "      <td>Homosapiens</td>\n",
       "      <td>IMM00020</td>\n",
       "      <td>Emerald Mall</td>\n",
       "      <td>Women's Fashion,Men's Fashion</td>\n",
       "      <td>Premium</td>\n",
       "    </tr>\n",
       "    <tr>\n",
       "      <td>2</td>\n",
       "      <td>Rocket Swims</td>\n",
       "      <td>IMM00153</td>\n",
       "      <td>Emerald Mall</td>\n",
       "      <td>Sports &amp; Fitness,Women's Fashion,Men's Fashion</td>\n",
       "      <td>Premium</td>\n",
       "    </tr>\n",
       "    <tr>\n",
       "      <td>3</td>\n",
       "      <td>Spade &amp;  Yard</td>\n",
       "      <td>IMM00027</td>\n",
       "      <td>Emerald Mall</td>\n",
       "      <td>Gifts &amp; Toys</td>\n",
       "      <td>Value</td>\n",
       "    </tr>\n",
       "    <tr>\n",
       "      <td>4</td>\n",
       "      <td>Pondicherry</td>\n",
       "      <td>IMM00008</td>\n",
       "      <td>Emerald Mall</td>\n",
       "      <td>Accessories,Women's Fashion</td>\n",
       "      <td>Premium</td>\n",
       "    </tr>\n",
       "    <tr>\n",
       "      <td>...</td>\n",
       "      <td>...</td>\n",
       "      <td>...</td>\n",
       "      <td>...</td>\n",
       "      <td>...</td>\n",
       "      <td>...</td>\n",
       "    </tr>\n",
       "    <tr>\n",
       "      <td>554</td>\n",
       "      <td>Red Stripes</td>\n",
       "      <td>IMA00055</td>\n",
       "      <td>Diamond Mall</td>\n",
       "      <td>Food &amp; Beverage</td>\n",
       "      <td>Value</td>\n",
       "    </tr>\n",
       "    <tr>\n",
       "      <td>555</td>\n",
       "      <td>Red Stripes</td>\n",
       "      <td>IMM00202</td>\n",
       "      <td>Emerald Mall</td>\n",
       "      <td>Food &amp; Beverage</td>\n",
       "      <td>Value</td>\n",
       "    </tr>\n",
       "    <tr>\n",
       "      <td>556</td>\n",
       "      <td>Plantorganics</td>\n",
       "      <td>NA-IMA0117</td>\n",
       "      <td>Diamond Mall</td>\n",
       "      <td>Beauty &amp; Grooming</td>\n",
       "      <td>Premium</td>\n",
       "    </tr>\n",
       "    <tr>\n",
       "      <td>557</td>\n",
       "      <td>Tnt Gold</td>\n",
       "      <td>NA-IMA0100</td>\n",
       "      <td>Diamond Mall</td>\n",
       "      <td>Entertainment &amp; Leisure</td>\n",
       "      <td>Premium</td>\n",
       "    </tr>\n",
       "    <tr>\n",
       "      <td>558</td>\n",
       "      <td>Handcrafted</td>\n",
       "      <td>NA-IMM0113</td>\n",
       "      <td>Emerald Mall</td>\n",
       "      <td>Electronics</td>\n",
       "      <td>Premium</td>\n",
       "    </tr>\n",
       "  </tbody>\n",
       "</table>\n",
       "<p>559 rows × 5 columns</p>\n",
       "</div>"
      ],
      "text/plain": [
       "        store_name  store_code store_location  \\\n",
       "0    Kansas Denims    IMM00033   Emerald Mall   \n",
       "1      Homosapiens    IMM00020   Emerald Mall   \n",
       "2     Rocket Swims    IMM00153   Emerald Mall   \n",
       "3    Spade &  Yard    IMM00027   Emerald Mall   \n",
       "4      Pondicherry    IMM00008   Emerald Mall   \n",
       "..             ...         ...            ...   \n",
       "554    Red Stripes    IMA00055   Diamond Mall   \n",
       "555    Red Stripes    IMM00202   Emerald Mall   \n",
       "556  Plantorganics  NA-IMA0117   Diamond Mall   \n",
       "557       Tnt Gold  NA-IMA0100   Diamond Mall   \n",
       "558    Handcrafted  NA-IMM0113   Emerald Mall   \n",
       "\n",
       "                                     store_category store_PriceCategory  \n",
       "0                     Women's Fashion,Men's Fashion             Premium  \n",
       "1                     Women's Fashion,Men's Fashion             Premium  \n",
       "2    Sports & Fitness,Women's Fashion,Men's Fashion             Premium  \n",
       "3                                      Gifts & Toys               Value  \n",
       "4                       Accessories,Women's Fashion             Premium  \n",
       "..                                              ...                 ...  \n",
       "554                                 Food & Beverage               Value  \n",
       "555                                 Food & Beverage               Value  \n",
       "556                               Beauty & Grooming             Premium  \n",
       "557                         Entertainment & Leisure             Premium  \n",
       "558                                     Electronics             Premium  \n",
       "\n",
       "[559 rows x 5 columns]"
      ]
     },
     "execution_count": 12,
     "metadata": {},
     "output_type": "execute_result"
    }
   ],
   "source": [
    "ds3"
   ]
  },
  {
   "cell_type": "code",
   "execution_count": 26,
   "metadata": {},
   "outputs": [],
   "source": [
    "# Check Null Value"
   ]
  },
  {
   "cell_type": "code",
   "execution_count": 27,
   "metadata": {
    "cell_style": "split"
   },
   "outputs": [
    {
     "data": {
      "text/plain": [
       "billing_timestamp       0\n",
       "transaction_type        0\n",
       "amount               1908\n",
       "points                  0\n",
       "store_code           1909\n",
       "customer_mobile         0\n",
       "dtype: int64"
      ]
     },
     "execution_count": 27,
     "metadata": {},
     "output_type": "execute_result"
    }
   ],
   "source": [
    "ds1.isna().sum()"
   ]
  },
  {
   "cell_type": "code",
   "execution_count": 28,
   "metadata": {
    "cell_style": "split"
   },
   "outputs": [
    {
     "data": {
      "text/plain": [
       "customer_id                                                              0\n",
       "new_customer_name (populate distinct names from any open dataset)    50018\n",
       "created_at                                                               0\n",
       "gender                                                               25301\n",
       "state                                                                 7184\n",
       "tier                                                                     0\n",
       "dtype: int64"
      ]
     },
     "execution_count": 28,
     "metadata": {},
     "output_type": "execute_result"
    }
   ],
   "source": [
    "ds2.isna().sum()"
   ]
  },
  {
   "cell_type": "code",
   "execution_count": 29,
   "metadata": {},
   "outputs": [
    {
     "data": {
      "text/plain": [
       "store_name               0\n",
       "store_code               0\n",
       "store_location           0\n",
       "store_category         153\n",
       "store_PriceCategory      0\n",
       "dtype: int64"
      ]
     },
     "execution_count": 29,
     "metadata": {},
     "output_type": "execute_result"
    }
   ],
   "source": [
    "ds3.isna().sum()"
   ]
  },
  {
   "cell_type": "code",
   "execution_count": null,
   "metadata": {},
   "outputs": [],
   "source": []
  }
 ],
 "metadata": {
  "hide_input": false,
  "kernelspec": {
   "display_name": "Python 3",
   "language": "python",
   "name": "python3"
  },
  "language_info": {
   "codemirror_mode": {
    "name": "ipython",
    "version": 3
   },
   "file_extension": ".py",
   "mimetype": "text/x-python",
   "name": "python",
   "nbconvert_exporter": "python",
   "pygments_lexer": "ipython3",
   "version": "3.7.4"
  }
 },
 "nbformat": 4,
 "nbformat_minor": 2
}
